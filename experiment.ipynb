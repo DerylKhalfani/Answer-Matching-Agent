{
 "cells": [
  {
   "cell_type": "markdown",
   "id": "222b5c2c",
   "metadata": {},
   "source": [
    "# First Agent"
   ]
  },
  {
   "cell_type": "code",
   "execution_count": null,
   "id": "73de4e16",
   "metadata": {},
   "outputs": [],
   "source": [
    "from typing import Annotated, Optional, Any\n",
    "\n",
    "from typing_extensions import TypedDict\n",
    "\n",
    "from pydantic import BaseModel, Field\n",
    "from langgraph.graph import StateGraph, START, END\n",
    "from langgraph.graph.message import add_messages\n",
    "from langchain_openai import ChatOpenAI\n",
    "from langchain_core.prompts import ChatPromptTemplate\n",
    "from langchain.schema import SystemMessage, HumanMessage\n",
    "from IPython.display import Image, display\n",
    "\n",
    "import os\n",
    "from langchain.chat_models import init_chat_model\n",
    "from dotenv import load_dotenv\n",
    "from src.rubrics.rubrics import RUBRICS"
   ]
  },
  {
   "cell_type": "code",
   "execution_count": 3,
   "id": "9a38ed24",
   "metadata": {},
   "outputs": [],
   "source": [
    "# class State(TypedDict):\n",
    "#     messages: Annotated[list, add_messages]"
   ]
  },
  {
   "cell_type": "code",
   "execution_count": 4,
   "id": "6155e4e5",
   "metadata": {},
   "outputs": [],
   "source": [
    "# load_dotenv(override=True)\n",
    "\n",
    "# os.environ[\"OPENAI_API_KEY\"] = os.getenv(\"OPENAI_API_KEY\")\n",
    "\n",
    "# llm = init_chat_model(\"openai:gpt-4o-mini\")"
   ]
  },
  {
   "cell_type": "code",
   "execution_count": 5,
   "id": "e59a08a7",
   "metadata": {},
   "outputs": [],
   "source": [
    "# def chatbot(state: State) -> State:\n",
    "#     return {\"messages\": [llm.invoke(state[\"messages\"])]}\n",
    "\n",
    "# graph_builder = StateGraph(State)\n",
    "# graph_builder.add_node(\"chatbot\", chatbot)\n",
    "# graph_builder.add_edge(START, \"chatbot\")\n",
    "# graph_builder.add_edge(\"chatbot\", END)\n",
    "\n",
    "# graph = graph_builder.compile()\n"
   ]
  },
  {
   "cell_type": "code",
   "execution_count": 6,
   "id": "f4dd1159",
   "metadata": {},
   "outputs": [],
   "source": [
    "# def chat(user_input):\n",
    "#     initial_state = {\"messages\": [{'role': 'user', 'content': user_input}]}\n",
    "#     result = graph.invoke(initial_state)\n",
    "#     return result['messages'][-1].content\n",
    "\n",
    "# chat(\"Hello, how are you?\")"
   ]
  },
  {
   "cell_type": "markdown",
   "id": "8b1e6df8",
   "metadata": {},
   "source": [
    "# State and Structured Output"
   ]
  },
  {
   "cell_type": "code",
   "execution_count": null,
   "id": "05a8d9b2",
   "metadata": {},
   "outputs": [],
   "source": [
    "class AgentState(TypedDict):\n",
    "    messages: Annotated[list, add_messages]\n",
    "\n",
    "    feedback_on_work: Optional[str]\n",
    "    rubric: Optional[list]\n",
    "    candidates: Optional[list[str]]\n",
    "    # current question id\n",
    "    current_question_id: Optional[str]\n",
    "\n",
    "    # score and resoan for current question\n",
    "    score: Optional[int]\n",
    "    reason: Optional[str]\n",
    "\n",
    "    # score and reason for each question\n",
    "    per_question_scores: Optional[dict[str, dict[str, str | int]]]\n",
    "\n",
    "    accepted: Optional[bool]\n",
    "    \n",
    "\n",
    "# class RubricState(TypedDict):\n",
    "#     rubric: dict\n",
    "\n",
    "# class CandidateState(TypedDict):\n",
    "#     candidates: list[str]\n",
    "#     answer: str"
   ]
  },
  {
   "cell_type": "code",
   "execution_count": 8,
   "id": "8dcc85f5",
   "metadata": {},
   "outputs": [],
   "source": [
    "class CompareOutput(BaseModel):\n",
    "    score: int\n",
    "    reason: str\n",
    "\n",
    "class JudgeOutput(BaseModel):\n",
    "    accepted: bool\n"
   ]
  },
  {
   "cell_type": "markdown",
   "id": "51c8dfc9",
   "metadata": {},
   "source": [
    "# Initialize LLM"
   ]
  },
  {
   "cell_type": "code",
   "execution_count": 9,
   "id": "791f89a3",
   "metadata": {},
   "outputs": [],
   "source": [
    "load_dotenv(override=True)\n",
    "\n",
    "os.environ[\"OPENAI_API_KEY\"] = os.getenv(\"OPENAI_API_KEY\")"
   ]
  },
  {
   "cell_type": "code",
   "execution_count": 10,
   "id": "3d5259dd",
   "metadata": {},
   "outputs": [],
   "source": [
    "compare_llm = ChatOpenAI(model='gpt-4o-mini')\n",
    "compare_llm_structured = compare_llm.with_structured_output(CompareOutput)\n",
    "\n",
    "judge_llm = ChatOpenAI(model='gpt-4o-mini')\n",
    "judge_llm_structured = judge_llm.with_structured_output(JudgeOutput)"
   ]
  },
  {
   "cell_type": "markdown",
   "id": "b3f7ceb0",
   "metadata": {},
   "source": [
    "### Define the Helper function"
   ]
  },
  {
   "cell_type": "code",
   "execution_count": 62,
   "id": "44f6c10a",
   "metadata": {},
   "outputs": [],
   "source": [
    "def build_state(question_id: str, candidate_answer: str) -> AgentState:\n",
    "    messages = [HumanMessage(content=candidate_answer)]\n",
    "    rubric_info = RUBRICS[question_id]['scoring_levels']\n",
    "    rubric_text = \"\"\n",
    "    for item in RUBRICS[question_id][\"scoring_levels\"]:\n",
    "        rubric_text += f\"{item['points']} poin: {item['criteria']}\\n\"\n",
    "        rubric_text += f\"Catatan: {RUBRICS[question_id]['grading_notes']}\"\n",
    "\n",
    "\n",
    "    return {\n",
    "        'messages': messages,\n",
    "        'rubric': rubric_text,\n",
    "        'feedback_on_work': None,\n",
    "        'candidates': None,\n",
    "        'current_question_id': question_id,\n",
    "        'per_question_scores': {},\n",
    "        'accepted': None,\n",
    "        'score': None,\n",
    "        'reason': None,\n",
    "\n",
    "    }\n",
    "\n",
    "def attach_main_with_subquestions(subquestions: dict) -> dict:\n",
    "    result_with_main = {}\n",
    "\n",
    "    for qid, data in subquestions.items():\n",
    "        parent = qid[:-1]  # \"Q1a\" -> \"Q1\"\n",
    "\n",
    "        if parent not in result_with_main:\n",
    "            result_with_main[parent] = {\n",
    "                \"subquestions\": {},\n",
    "                \"total_score\": 0,\n",
    "                \"passed\": None,\n",
    "            }\n",
    "\n",
    "        # attach subquestion to the parent\n",
    "        result_with_main[parent][\"subquestions\"][qid] = data\n",
    "\n",
    "        # add total score of parent\n",
    "        result_with_main[parent][\"total_score\"] += data[\"score\"]\n",
    "\n",
    "        # checking to see if pass\n",
    "        passed = result_with_main[parent]['total_score'] > 3\n",
    "\n",
    "        result_with_main[parent]['passed'] = passed\n",
    "    \n",
    "    return result_with_main\n",
    "    \n",
    "\n"
   ]
  },
  {
   "cell_type": "markdown",
   "id": "492a07f2",
   "metadata": {},
   "source": [
    "### Define the agent function"
   ]
  },
  {
   "cell_type": "code",
   "execution_count": 33,
   "id": "ea10dc07",
   "metadata": {},
   "outputs": [],
   "source": [
    "def compare_node(state: AgentState) -> AgentState:\n",
    "    system_message =  f\"\"\"You are a helpful assistant that compares candidate answers STRICTLY based on the given rubric.\n",
    "    Be very strict and follow ONLY what the rubric says.\n",
    "    Do not invent or assume any new rules.\n",
    "    Give a score exactly as defined by the rubric, and explain briefly why that score fits\n",
    "    keep your reason short and directly tied to the rubric, do not add anything or hallucinate.\n",
    "\n",
    "    Here is the rubric:\n",
    "\n",
    "    {state.get('rubric', '')}\n",
    "    \"\"\"\n",
    "\n",
    "    compare_response = compare_llm_structured.invoke([SystemMessage(content=system_message)] + state['messages'])\n",
    "\n",
    "    updated_scores = state.get('per_question_scores', {})\n",
    "    updated_scores[state['current_question_id']] = {\n",
    "        'score': compare_response.score,\n",
    "        'reason': compare_response.reason\n",
    "    }\n",
    "    \n",
    "    return { **state, 'score': compare_response.score, 'reason': compare_response.reason, 'per_question_scores': updated_scores }\n"
   ]
  },
  {
   "cell_type": "code",
   "execution_count": 34,
   "id": "85855fc9",
   "metadata": {},
   "outputs": [],
   "source": [
    "def judge_node(state: AgentState) -> AgentState:\n",
    "    system_message = f\"\"\"You are a helpful assistant that judges if the reason and score provided by the previous agent aligns with the rubric or not. I want you\n",
    "    to be very strict about the judge.\n",
    "    \n",
    "    Here is the rubric\n",
    "    {state.get('rubric', '')}\n",
    "    \"\"\"\n",
    "\n",
    "    messages = [HumanMessage(content=f\"Score: {state['score']} \\n Reason: {state['reason']}\")]\n",
    "\n",
    "    judge_response = judge_llm_structured.invoke([SystemMessage(content=system_message)] + messages)\n",
    "\n",
    "    current_question_id = state.get('current_question_id', 'unknown')\n",
    "    updated_scores = dict(state.get('per_question_scores', {}) or {})\n",
    "    if current_question_id in updated_scores:\n",
    "        updated_scores[current_question_id]['accepted'] = judge_response.accepted\n",
    "\n",
    "    return { **state, 'accepted': judge_response.accepted, 'per_question_scores': updated_scores}\n",
    "\n",
    "    "
   ]
  },
  {
   "cell_type": "markdown",
   "id": "294855db",
   "metadata": {},
   "source": [
    "# Define the Graph"
   ]
  },
  {
   "cell_type": "code",
   "execution_count": 35,
   "id": "90ddad91",
   "metadata": {},
   "outputs": [],
   "source": [
    "agent_graph = StateGraph(AgentState)\n",
    "\n",
    "agent_graph.add_node('compare', compare_node)\n",
    "agent_graph.add_node('judge', judge_node)\n",
    "\n",
    "agent_graph.add_edge(START, 'compare')\n",
    "agent_graph.add_edge('compare', 'judge')\n",
    "agent_graph.add_edge('judge', END)\n",
    "\n",
    "agent_graph = agent_graph.compile()\n"
   ]
  },
  {
   "cell_type": "code",
   "execution_count": 36,
   "id": "8c774d3d",
   "metadata": {},
   "outputs": [
    {
     "data": {
      "image/png": "[encoded data removed]",
      "text/plain": [
       "<IPython.core.display.Image object>"
      ]
     },
     "metadata": {},
     "output_type": "display_data"
    }
   ],
   "source": [
    "display(Image(agent_graph.get_graph().draw_mermaid_png()))"
   ]
  },
  {
   "cell_type": "code",
   "execution_count": null,
   "id": "50784ff9",
   "metadata": {},
   "outputs": [],
   "source": [
    "class AgentState(TypedDict):\n",
    "    messages: Annotated[list, add_messages]\n",
    "\n",
    "    feedback_on_work: Optional[str]\n",
    "    rubric: Optional[Any]\n",
    "    candidates: Optional[list[str]]\n",
    "    # current question id\n",
    "    current_question_id: Optional[str]\n",
    "\n",
    "    # score and resoan for current question\n",
    "    score: Optional[int]\n",
    "    reason: Optional[str]\n",
    "\n",
    "    # score and reason for each question\n",
    "    per_question_scores: Optional[dict[str, dict[str, str | int]]]\n",
    "\n",
    "    accepted: Optional[bool]"
   ]
  },
  {
   "cell_type": "code",
   "execution_count": null,
   "id": "c4d77a4f",
   "metadata": {},
   "outputs": [],
   "source": []
  },
  {
   "cell_type": "code",
   "execution_count": 63,
   "id": "bf7f3298",
   "metadata": {},
   "outputs": [
    {
     "name": "stdout",
     "output_type": "stream",
     "text": [
      "{'Q1': {'subquestions': {'Q1a': {'score': 1, 'reason': 'Menjawab dengan benar tentang bisnis mobile dan fixed serta menyebutkan brand terkait, namun tidak menyertakan tipe pelanggan atau detail brand yang lebih spesifik.', 'accepted': True}, 'Q1b': {'score': 1, 'reason': 'Jawaban menunjukkan pemahaman dasar tentang identifikasi kebutuhan pelanggan melalui pertanyaan, tetapi tidak ada analisis tambahan atau asumsi eksplisit yang melengkapi rekomendasi produk. Penjelasan masih tergolong umum dan tidak sepenuhnya actionable.', 'accepted': False}}, 'total_score': 2, 'passed': False}}\n"
     ]
    }
   ],
   "source": [
    "def chat(state: AgentState):\n",
    "\n",
    "    result = agent_graph.invoke(state)\n",
    "\n",
    "    return {'per_question_scores': result['per_question_scores']}\n",
    "\n",
    "candidate_answers = {\n",
    "        \"Q1a\": \"\"\"\n",
    "        Produk dan Layanan Utama Telkomsel :\n",
    "        - Layanan Seluler Prabayar (Kartu Perdana/Voucher Fisik Telkomsel & by.U) dan Pascabayar (Telkomsel Halo)\n",
    "        -  Layanan Digital (MAXstream, Langit Musik, Dunia Games)\n",
    "        - Layanan Internet di Rumah (Telkomsel IndiHome & Orbit)\n",
    "        - Layanan Finansial (LinkAja)\"\"\",\n",
    "        \"Q1b\": \"\"\"\n",
    "        - Mengenali kebutuhan pelanggan dengan mengajukan pertanyaan dasar (Apakah lebih sering menggunakan internet, menelepon, atau SMS?) (Berapa kisaran biaya yang dihabiskan setiap bulannya?) (Lebih sering mengakses media sosial, streaming video, atau bermain games?)\n",
    "        - Menyesuaikan dengan layanan atau produk Telkomsel\n",
    "        - Memberikan edukasi kepada pelanggan dengan menjelaskan beberapa pilihan layanan dan produk Telkomsel yang tepat sesuai dengan kebutuhan pelanggan\n",
    "        \"\"\"\n",
    "}\n",
    "\n",
    "question_ids = [\"Q1a\", \"Q1b\"]\n",
    "\n",
    "answer_results = {}\n",
    "\n",
    "for qid in question_ids:\n",
    "    answer_text = candidate_answers[qid]\n",
    "    state = build_state(qid, answer_text) # build the initial state\n",
    "    result = chat(state) # graph call\n",
    "    answer_results[qid] = result['per_question_scores'][qid] # result with every qid\n",
    "\n",
    "main_results = attach_main_with_subquestions(answer_results)\n",
    "\n",
    "\n",
    "print(main_results)\n"
   ]
  },
  {
   "cell_type": "code",
   "execution_count": 17,
   "id": "51054ad3",
   "metadata": {},
   "outputs": [
    {
     "data": {
      "text/plain": [
       "[{'points': 2,\n",
       "  'criteria': 'Menjelaskan dengan lengkap bisnis mobile & fixed, menyebutkan brand di dalamnya, serta menambahkan tipe pelanggan dan detail brand.'},\n",
       " {'points': 1,\n",
       "  'criteria': 'Menyebutkan dengan benar bisnis mobile & fixed dan brand di dalamnya, namun kurang lengkap (tidak menjelaskan tipe pelanggan atau detail brand).'},\n",
       " {'points': 0,\n",
       "  'criteria': 'Tidak dapat menjelaskan produk dan layanan utama Telkomsel secara benar.'}]"
      ]
     },
     "execution_count": 17,
     "metadata": {},
     "output_type": "execute_result"
    }
   ],
   "source": [
    "tes = RUBRICS['Q1a']['scoring_levels']\n",
    "tes"
   ]
  },
  {
   "cell_type": "markdown",
   "id": "3b5d3178",
   "metadata": {},
   "source": [
    "a. Produk dan Layanan Utama Telkomsel :\n",
    "- Layanan Seluler Prabayar (Kartu Perdana/Voucher Fisik Telkomsel & by.U) dan Pascabayar (Telkomsel Halo)\n",
    "-  Layanan Digital (MAXstream, Langit Musik, Dunia Games)\n",
    "- Layanan Internet di Rumah (Telkomsel IndiHome & Orbit)\n",
    "- Layanan Finansial (LinkAja)\n",
    "\n",
    "b. - Mengenali kebutuhan pelanggan dengan mengajukan pertanyaan dasar (Apakah lebih sering menggunakan internet, menelepon, atau SMS?) (Berapa kisaran biaya yang dihabiskan setiap bulannya?) (Lebih sering mengakses media sosial, streaming video, atau bermain games?)\n",
    "- Menyesuaikan dengan layanan atau produk Telkomsel\n",
    "- Memberikan edukasi kepada pelanggan dengan menjelaskan beberapa pilihan layanan dan produk Telkomsel yang tepat sesuai dengan kebutuhan pelanggan"
   ]
  }
 ],
 "metadata": {
  "kernelspec": {
   "display_name": ".venv",
   "language": "python",
   "name": "python3"
  },
  "language_info": {
   "codemirror_mode": {
    "name": "ipython",
    "version": 3
   },
   "file_extension": ".py",
   "mimetype": "text/x-python",
   "name": "python",
   "nbconvert_exporter": "python",
   "pygments_lexer": "ipython3",
   "version": "3.12.10"
  }
 },
 "nbformat": 4,
 "nbformat_minor": 5
}
