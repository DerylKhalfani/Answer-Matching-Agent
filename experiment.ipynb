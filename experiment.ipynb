{
 "cells": [
  {
   "cell_type": "markdown",
   "id": "222b5c2c",
   "metadata": {},
   "source": [
    "# First Agent"
   ]
  },
  {
   "cell_type": "code",
   "execution_count": 51,
   "id": "73de4e16",
   "metadata": {},
   "outputs": [],
   "source": [
    "from typing import Annotated, Optional\n",
    "\n",
    "from typing_extensions import TypedDict\n",
    "\n",
    "from pydantic import BaseModel, Field\n",
    "from langgraph.graph import StateGraph, START, END\n",
    "from langgraph.graph.message import add_messages\n",
    "from langchain_openai import ChatOpenAI\n",
    "from langchain_core.prompts import ChatPromptTemplate\n",
    "from langchain.schema import SystemMessage, HumanMessage\n",
    "from IPython.display import Image, display\n",
    "\n",
    "import os\n",
    "from langchain.chat_models import init_chat_model\n",
    "from dotenv import load_dotenv"
   ]
  },
  {
   "cell_type": "code",
   "execution_count": 52,
   "id": "9a38ed24",
   "metadata": {},
   "outputs": [],
   "source": [
    "# class State(TypedDict):\n",
    "#     messages: Annotated[list, add_messages]"
   ]
  },
  {
   "cell_type": "code",
   "execution_count": 53,
   "id": "6155e4e5",
   "metadata": {},
   "outputs": [],
   "source": [
    "# load_dotenv(override=True)\n",
    "\n",
    "# os.environ[\"OPENAI_API_KEY\"] = os.getenv(\"OPENAI_API_KEY\")\n",
    "\n",
    "# llm = init_chat_model(\"openai:gpt-4o-mini\")"
   ]
  },
  {
   "cell_type": "code",
   "execution_count": 54,
   "id": "e59a08a7",
   "metadata": {},
   "outputs": [],
   "source": [
    "# def chatbot(state: State) -> State:\n",
    "#     return {\"messages\": [llm.invoke(state[\"messages\"])]}\n",
    "\n",
    "# graph_builder = StateGraph(State)\n",
    "# graph_builder.add_node(\"chatbot\", chatbot)\n",
    "# graph_builder.add_edge(START, \"chatbot\")\n",
    "# graph_builder.add_edge(\"chatbot\", END)\n",
    "\n",
    "# graph = graph_builder.compile()\n"
   ]
  },
  {
   "cell_type": "code",
   "execution_count": 55,
   "id": "f4dd1159",
   "metadata": {},
   "outputs": [],
   "source": [
    "# def chat(user_input):\n",
    "#     initial_state = {\"messages\": [{'role': 'user', 'content': user_input}]}\n",
    "#     result = graph.invoke(initial_state)\n",
    "#     return result['messages'][-1].content\n",
    "\n",
    "# chat(\"Hello, how are you?\")"
   ]
  },
  {
   "cell_type": "markdown",
   "id": "8b1e6df8",
   "metadata": {},
   "source": [
    "# State and Structured Output"
   ]
  },
  {
   "cell_type": "code",
   "execution_count": 109,
   "id": "05a8d9b2",
   "metadata": {},
   "outputs": [],
   "source": [
    "class AgentState(TypedDict):\n",
    "    messages: Annotated[list, add_messages]\n",
    "    feedback_on_work: Optional[str]\n",
    "    rubric: str\n",
    "    candidates: Optional[list[str]]\n",
    "    score: Optional[str]\n",
    "    reason: Optional[str]\n",
    "\n",
    "# class RubricState(TypedDict):\n",
    "#     rubric: dict\n",
    "\n",
    "# class CandidateState(TypedDict):\n",
    "#     candidates: list[str]\n",
    "#     answer: str"
   ]
  },
  {
   "cell_type": "code",
   "execution_count": 110,
   "id": "8dcc85f5",
   "metadata": {},
   "outputs": [],
   "source": [
    "class CompareOutput(BaseModel):\n",
    "    score: int\n",
    "    reason: str\n",
    "\n",
    "class JudgeOutput(BaseModel):\n",
    "    pass"
   ]
  },
  {
   "cell_type": "markdown",
   "id": "51c8dfc9",
   "metadata": {},
   "source": [
    "# Initialize LLM"
   ]
  },
  {
   "cell_type": "code",
   "execution_count": 111,
   "id": "791f89a3",
   "metadata": {},
   "outputs": [],
   "source": [
    "load_dotenv(override=True)\n",
    "\n",
    "os.environ[\"OPENAI_API_KEY\"] = os.getenv(\"OPENAI_API_KEY\")"
   ]
  },
  {
   "cell_type": "code",
   "execution_count": 112,
   "id": "3d5259dd",
   "metadata": {},
   "outputs": [],
   "source": [
    "compare_llm = ChatOpenAI(model='gpt-4o-mini')\n",
    "compare_llm_structured = compare_llm.with_structured_output(CompareOutput)\n",
    "\n",
    "judge_llm = ChatOpenAI(model='gpt-4o-mini')"
   ]
  },
  {
   "cell_type": "markdown",
   "id": "492a07f2",
   "metadata": {},
   "source": [
    "### Define the agent function"
   ]
  },
  {
   "cell_type": "code",
   "execution_count": null,
   "id": "ea10dc07",
   "metadata": {},
   "outputs": [],
   "source": [
    "def compare_node(state: State) -> State:\n",
    "    system_message =  f\"\"\"You are a helpful assistant that compares candidate answers STRICTLY based on the given rubric.\n",
    "    Be very strict and follow ONLY what the rubric says.\n",
    "    Do not invent or assume any new rules.\n",
    "    Give a score exactly as defined by the rubric, and explain briefly why that score fits\n",
    "    keep your reason short and directly tied to the rubric, do not add anything or hallucinate.\n",
    "\n",
    "    Here is the rubric:\n",
    "    \n",
    "\n",
    "    {state.get('rubric', '')}\n",
    "    \"\"\"\n",
    "\n",
    "    response = compare_llm_structured.invoke([SystemMessage(content=system_message)] + state['messages']) \n",
    "    \n",
    "    return { **state, 'score': response.score, 'reason': response.reason }\n"
   ]
  },
  {
   "cell_type": "markdown",
   "id": "294855db",
   "metadata": {},
   "source": [
    "# Define the Graph"
   ]
  },
  {
   "cell_type": "code",
   "execution_count": 127,
   "id": "90ddad91",
   "metadata": {},
   "outputs": [],
   "source": [
    "agent_graph = StateGraph(AgentState)\n",
    "\n",
    "agent_graph.add_node('compare', compare_node)\n",
    "\n",
    "agent_graph.add_edge(START, 'compare')\n",
    "agent_graph.add_edge('compare', END)\n",
    "\n",
    "agent_graph = agent_graph.compile()\n"
   ]
  },
  {
   "cell_type": "code",
   "execution_count": 128,
   "id": "8c774d3d",
   "metadata": {},
   "outputs": [
    {
     "data": {
      "image/png": "[encoded data removed]",
      "text/plain": [
       "<IPython.core.display.Image object>"
      ]
     },
     "metadata": {},
     "output_type": "display_data"
    }
   ],
   "source": [
    "display(Image(agent_graph.get_graph().draw_mermaid_png()))"
   ]
  },
  {
   "cell_type": "code",
   "execution_count": null,
   "id": "bf7f3298",
   "metadata": {},
   "outputs": [
    {
     "name": "stdout",
     "output_type": "stream",
     "text": [
      "{'score': 1, 'reason': \"The response only provides a minimal description of Telkomsel's services without any detailed information or context.\"}\n"
     ]
    }
   ],
   "source": [
    "def chat(state: AgentState):\n",
    "\n",
    "    result = agent_graph.invoke(state)\n",
    "\n",
    "    return {'score': result['score'], 'reason': result['reason']}\n",
    "\n",
    "initial_state: AgentState = {\n",
    "    'messages': [HumanMessage(content=\"Telkomsel is a company that sells package data and streaming services\")],\n",
    "    'feedback_on_work': None,\n",
    "    'rubric': \"\"\"This question is scored out of 3 points.\n",
    "\n",
    "1 point: The answer mentions at most two specific products or services that the company provides.\n",
    "2 points: The answer mentions exactly three products or services but gives little or no explanation.\n",
    "3 points: The answer mentions three or more products or services and clearly explains what each one is or how it relates to the company.\n",
    "\"\"\",\n",
    "    'candidates': None,\n",
    "    'score': None,\n",
    "    'reason': None\n",
    "\n",
    "} \n",
    "\n",
    "response = chat(initial_state)\n",
    "print(response)\n"
   ]
  }
 ],
 "metadata": {
  "kernelspec": {
   "display_name": ".venv",
   "language": "python",
   "name": "python3"
  },
  "language_info": {
   "codemirror_mode": {
    "name": "ipython",
    "version": 3
   },
   "file_extension": ".py",
   "mimetype": "text/x-python",
   "name": "python",
   "nbconvert_exporter": "python",
   "pygments_lexer": "ipython3",
   "version": "3.12.10"
  }
 },
 "nbformat": 4,
 "nbformat_minor": 5
}
